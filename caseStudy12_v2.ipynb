{
  "nbformat": 4,
  "nbformat_minor": 0,
  "metadata": {
    "colab": {
      "name": "caseStudy12_v2.ipynb",
      "version": "0.3.2",
      "provenance": [],
      "collapsed_sections": [],
      "include_colab_link": true
    },
    "kernelspec": {
      "name": "python3",
      "display_name": "Python 3"
    },
    "accelerator": "GPU"
  },
  "cells": [
    {
      "cell_type": "markdown",
      "metadata": {
        "id": "view-in-github",
        "colab_type": "text"
      },
      "source": [
        "<a href=\"https://colab.research.google.com/github/mapednek/QTW/blob/master/caseStudy12_v2.ipynb\" target=\"_parent\"><img src=\"https://colab.research.google.com/assets/colab-badge.svg\" alt=\"Open In Colab\"/></a>"
      ]
    },
    {
      "metadata": {
        "id": "KY7TfTb7i6B_",
        "colab_type": "code",
        "outputId": "9b9c32ab-58cb-41c6-f927-117bca0203ce",
        "colab": {
          "base_uri": "https://localhost:8080/",
          "height": 125
        }
      },
      "cell_type": "code",
      "source": [
        "from google.colab import drive\n",
        "drive.mount('/content/gdrive')"
      ],
      "execution_count": 0,
      "outputs": [
        {
          "output_type": "stream",
          "text": [
            "Go to this URL in a browser: https://accounts.google.com/o/oauth2/auth?client_id=947318989803-6bn6qk8qdgf4n4g3pfee6491hc0brc4i.apps.googleusercontent.com&redirect_uri=urn%3Aietf%3Awg%3Aoauth%3A2.0%3Aoob&scope=email%20https%3A%2F%2Fwww.googleapis.com%2Fauth%2Fdocs.test%20https%3A%2F%2Fwww.googleapis.com%2Fauth%2Fdrive%20https%3A%2F%2Fwww.googleapis.com%2Fauth%2Fdrive.photos.readonly%20https%3A%2F%2Fwww.googleapis.com%2Fauth%2Fpeopleapi.readonly&response_type=code\n",
            "\n",
            "Enter your authorization code:\n",
            "··········\n",
            "Mounted at /content/gdrive\n"
          ],
          "name": "stdout"
        }
      ]
    },
    {
      "metadata": {
        "id": "pKriVMWrkCUN",
        "colab_type": "code",
        "outputId": "a31db448-4256-482e-fba6-6a05580db400",
        "colab": {
          "base_uri": "https://localhost:8080/",
          "height": 70
        }
      },
      "cell_type": "code",
      "source": [
        "!ls \"/content/gdrive/My Drive/Colab Notebooks\""
      ],
      "execution_count": 0,
      "outputs": [
        {
          "output_type": "stream",
          "text": [
            " caseStudy12.ipynb\t     'Copy of Copy_of_caseStudy12.ipynb'\n",
            "'Copy of caseStudy12.ipynb'   HIGGS.csv\n",
            " Copy_of_caseStudy12.ipynb    QTWcaseStudy10.ipynb\n"
          ],
          "name": "stdout"
        }
      ]
    },
    {
      "metadata": {
        "id": "wKQYxnEcmHVv",
        "colab_type": "code",
        "colab": {}
      },
      "cell_type": "code",
      "source": [
        "#!gunzip \"/content/gdrive/My Drive/Colab Notebooks/HIGGS.csv.gz\""
      ],
      "execution_count": 0,
      "outputs": []
    },
    {
      "metadata": {
        "id": "SWsTKPyMq7wA",
        "colab_type": "code",
        "colab": {}
      },
      "cell_type": "code",
      "source": [
        "import numpy as np\n",
        "import matplotlib.pyplot as plt \n",
        "\n",
        "import pandas as pd  \n",
        "import seaborn as sns "
      ],
      "execution_count": 0,
      "outputs": []
    },
    {
      "metadata": {
        "id": "7ll4iz4yrG_4",
        "colab_type": "code",
        "colab": {}
      },
      "cell_type": "code",
      "source": [
        "N=2000000. #Change this line adjust the number of rows. \n",
        "data=pd.read_csv(\"/content/gdrive/My Drive/Colab Notebooks/HIGGS.csv\",nrows=N,header=None)\n",
        "test_data=pd.read_csv(\"/content/gdrive/My Drive/Colab Notebooks/HIGGS.csv\",nrows=95000,header=None,skiprows=10500000)"
      ],
      "execution_count": 0,
      "outputs": []
    },
    {
      "metadata": {
        "id": "5l-yTseOwnJ9",
        "colab_type": "code",
        "colab": {}
      },
      "cell_type": "code",
      "source": [
        "import tensorflow as tf"
      ],
      "execution_count": 0,
      "outputs": []
    },
    {
      "metadata": {
        "id": "N94QgnH2wzk1",
        "colab_type": "code",
        "outputId": "285958ae-ce39-411e-d423-a2bca43f8269",
        "colab": {
          "base_uri": "https://localhost:8080/",
          "height": 34
        }
      },
      "cell_type": "code",
      "source": [
        "from keras.models import Sequential\n",
        "from keras.layers.core import Dense, Dropout, Activation\n",
        "from keras.optimizers import SGD\n",
        "from sklearn.metrics import roc_auc_score"
      ],
      "execution_count": 0,
      "outputs": [
        {
          "output_type": "stream",
          "text": [
            "Using TensorFlow backend.\n"
          ],
          "name": "stderr"
        }
      ]
    },
    {
      "metadata": {
        "id": "q_EHQUXgxP1h",
        "colab_type": "code",
        "outputId": "a3592cc8-8c65-4ea3-de10-cdc14c179f54",
        "colab": {
          "base_uri": "https://localhost:8080/",
          "height": 389
        }
      },
      "cell_type": "code",
      "source": [
        "y = np.array(data.loc[:,0])\n",
        "x = np.array(data.loc[:,1:])\n",
        "x_test = np.array(test_data.loc[:,1:])\n",
        "y_test = np.array(test_data.loc[:,0])\n",
        "\n",
        "#Begin \n",
        "\n",
        "model = Sequential()\n",
        "model.add(Dense(50, input_dim=x.shape[1], kernel_initializer='uniform')) # X_train.shape[1] == 28 here\n",
        "model.add(Activation('sigmoid'))\n",
        "model.add(Dropout(0.10))\n",
        "model.add(Dense(50, kernel_initializer='uniform'))\n",
        "model.add(Activation('sigmoid'))\n",
        "model.add(Dropout(0.10))\n",
        "model.add(Dense(1, kernel_initializer='uniform')) \n",
        "model.add(Activation('sigmoid'))\n",
        "\n",
        "sgd = SGD(lr=0.1, decay=1e-6, momentum=0.9, nesterov=True)\n",
        "model.compile(loss='binary_crossentropy', metrics=['accuracy'], optimizer=sgd)\n",
        "\n",
        "model.fit(x, y, epochs=5, batch_size=1000)\n",
        "roc_auc_score(y_test,model.predict(x_test))\n",
        "#end"
      ],
      "execution_count": 0,
      "outputs": [
        {
          "output_type": "stream",
          "text": [
            "WARNING:tensorflow:From /usr/local/lib/python3.6/dist-packages/tensorflow/python/framework/op_def_library.py:263: colocate_with (from tensorflow.python.framework.ops) is deprecated and will be removed in a future version.\n",
            "Instructions for updating:\n",
            "Colocations handled automatically by placer.\n",
            "WARNING:tensorflow:From /usr/local/lib/python3.6/dist-packages/keras/backend/tensorflow_backend.py:3445: calling dropout (from tensorflow.python.ops.nn_ops) with keep_prob is deprecated and will be removed in a future version.\n",
            "Instructions for updating:\n",
            "Please use `rate` instead of `keep_prob`. Rate should be set to `rate = 1 - keep_prob`.\n",
            "WARNING:tensorflow:From /usr/local/lib/python3.6/dist-packages/tensorflow/python/ops/math_ops.py:3066: to_int32 (from tensorflow.python.ops.math_ops) is deprecated and will be removed in a future version.\n",
            "Instructions for updating:\n",
            "Use tf.cast instead.\n",
            "Epoch 1/5\n",
            "2000000/2000000 [==============================] - 14s 7us/step - loss: 0.6918 - acc: 0.5280\n",
            "Epoch 2/5\n",
            "2000000/2000000 [==============================] - 11s 6us/step - loss: 0.6795 - acc: 0.5581\n",
            "Epoch 3/5\n",
            "2000000/2000000 [==============================] - 11s 6us/step - loss: 0.6481 - acc: 0.6165\n",
            "Epoch 4/5\n",
            "2000000/2000000 [==============================] - 11s 6us/step - loss: 0.6356 - acc: 0.6316\n",
            "Epoch 5/5\n",
            "2000000/2000000 [==============================] - 12s 6us/step - loss: 0.6263 - acc: 0.6435\n"
          ],
          "name": "stdout"
        },
        {
          "output_type": "execute_result",
          "data": {
            "text/plain": [
              "0.7172504383926639"
            ]
          },
          "metadata": {
            "tags": []
          },
          "execution_count": 11
        }
      ]
    },
    {
      "metadata": {
        "id": "MV1u3ENApJiX",
        "colab_type": "code",
        "outputId": "a2eceab8-60c6-41e4-acef-03f8506e6dde",
        "colab": {
          "base_uri": "https://localhost:8080/",
          "height": 210
        }
      },
      "cell_type": "code",
      "source": [
        "### architechture number 1 with one extra layer(total 3 layers) than the default Dr.Slater's code\n",
        "model = Sequential()\n",
        "model.add(Dense(50, input_dim=x.shape[1], kernel_initializer='uniform')) # X_train.shape[1] == 28 here\n",
        "model.add(Activation('sigmoid'))\n",
        "model.add(Dropout(0.10))\n",
        "model.add(Dense(50, kernel_initializer='uniform'))\n",
        "model.add(Activation('sigmoid'))\n",
        "model.add(Dropout(0.10))\n",
        "model.add(Dense(50, kernel_initializer='uniform'))\n",
        "model.add(Activation('sigmoid'))\n",
        "model.add(Dropout(0.10))\n",
        "model.add(Dense(1, kernel_initializer='uniform')) \n",
        "model.add(Activation('sigmoid'))\n",
        "\n",
        "sgd = SGD(lr=0.1, decay=1e-6, momentum=0.9, nesterov=True)\n",
        "model.compile(loss='binary_crossentropy', metrics=['accuracy'], optimizer=sgd)\n",
        "\n",
        "model.fit(x, y, epochs=5, batch_size=1000)\n",
        "roc_auc_score(y_test,model.predict(x_test))\n",
        "#end"
      ],
      "execution_count": 0,
      "outputs": [
        {
          "output_type": "stream",
          "text": [
            "Epoch 1/5\n",
            "2000000/2000000 [==============================] - 13s 6us/step - loss: 0.6919 - acc: 0.5278\n",
            "Epoch 2/5\n",
            "2000000/2000000 [==============================] - 13s 6us/step - loss: 0.6918 - acc: 0.5287\n",
            "Epoch 3/5\n",
            "2000000/2000000 [==============================] - 13s 6us/step - loss: 0.6917 - acc: 0.5290\n",
            "Epoch 4/5\n",
            "2000000/2000000 [==============================] - 13s 6us/step - loss: 0.6917 - acc: 0.5292\n",
            "Epoch 5/5\n",
            "2000000/2000000 [==============================] - 12s 6us/step - loss: 0.6916 - acc: 0.5293\n"
          ],
          "name": "stdout"
        },
        {
          "output_type": "execute_result",
          "data": {
            "text/plain": [
              "0.5228196573699244"
            ]
          },
          "metadata": {
            "tags": []
          },
          "execution_count": 12
        }
      ]
    },
    {
      "metadata": {
        "id": "ZrBWxus3sKx6",
        "colab_type": "code",
        "outputId": "ac5f0acf-dc44-4e6e-ee72-dc5117f1b8c9",
        "colab": {
          "base_uri": "https://localhost:8080/",
          "height": 210
        }
      },
      "cell_type": "code",
      "source": [
        "### architechture number 2 with 5 layers i.e. 3 extra layers than the default Dr.Slater's code\n",
        "model = Sequential()\n",
        "model.add(Dense(50, input_dim=x.shape[1], kernel_initializer='uniform')) # X_train.shape[1] == 28 here\n",
        "model.add(Activation('sigmoid'))\n",
        "model.add(Dropout(0.10))\n",
        "model.add(Dense(50, kernel_initializer='uniform'))\n",
        "model.add(Activation('sigmoid'))\n",
        "model.add(Dropout(0.10))\n",
        "model.add(Dense(50, kernel_initializer='uniform'))\n",
        "model.add(Activation('sigmoid'))\n",
        "model.add(Dropout(0.10))\n",
        "model.add(Dense(50, kernel_initializer='uniform'))\n",
        "model.add(Activation('sigmoid'))\n",
        "model.add(Dropout(0.10))\n",
        "model.add(Dense(50, kernel_initializer='uniform'))\n",
        "model.add(Activation('sigmoid'))\n",
        "model.add(Dropout(0.10))\n",
        "\n",
        "model.add(Dense(1, kernel_initializer='uniform')) \n",
        "model.add(Activation('sigmoid'))\n",
        "\n",
        "sgd = SGD(lr=0.1, decay=1e-6, momentum=0.9, nesterov=True)\n",
        "model.compile(loss='binary_crossentropy', metrics=['accuracy'], optimizer=sgd)\n",
        "\n",
        "model.fit(x, y, epochs=5, batch_size=1000)\n",
        "roc_auc_score(y_test,model.predict(x_test))\n",
        "#end"
      ],
      "execution_count": 0,
      "outputs": [
        {
          "output_type": "stream",
          "text": [
            "Epoch 1/5\n",
            "2000000/2000000 [==============================] - 15s 8us/step - loss: 0.6919 - acc: 0.5283\n",
            "Epoch 2/5\n",
            "2000000/2000000 [==============================] - 15s 7us/step - loss: 0.6918 - acc: 0.5285\n",
            "Epoch 3/5\n",
            "2000000/2000000 [==============================] - 15s 7us/step - loss: 0.6917 - acc: 0.5290\n",
            "Epoch 4/5\n",
            "2000000/2000000 [==============================] - 15s 7us/step - loss: 0.6917 - acc: 0.5292\n",
            "Epoch 5/5\n",
            "2000000/2000000 [==============================] - 15s 7us/step - loss: 0.6916 - acc: 0.5293\n"
          ],
          "name": "stdout"
        },
        {
          "output_type": "execute_result",
          "data": {
            "text/plain": [
              "0.4973967679018789"
            ]
          },
          "metadata": {
            "tags": []
          },
          "execution_count": 13
        }
      ]
    },
    {
      "metadata": {
        "id": "lHbVEimnrUQc",
        "colab_type": "code",
        "outputId": "db4e7d57-8021-4419-b5f1-d39a1f5a0a47",
        "colab": {
          "base_uri": "https://localhost:8080/",
          "height": 210
        }
      },
      "cell_type": "code",
      "source": [
        "### architechture number 3 with only 2 layers (one less than the default Dr. Slater's code)\n",
        "model = Sequential()\n",
        "model.add(Dense(50, input_dim=x.shape[1], kernel_initializer='uniform')) # X_train.shape[1] == 28 here\n",
        "model.add(Activation('sigmoid'))\n",
        "model.add(Dropout(0.10))\n",
        "model.add(Dense(1, kernel_initializer='uniform')) \n",
        "model.add(Activation('sigmoid'))\n",
        "\n",
        "sgd = SGD(lr=0.1, decay=1e-6, momentum=0.9, nesterov=True)\n",
        "model.compile(loss='binary_crossentropy', metrics=['accuracy'], optimizer=sgd)\n",
        "\n",
        "model.fit(x, y, epochs=5, batch_size=1000)\n",
        "roc_auc_score(y_test,model.predict(x_test))\n",
        "#end"
      ],
      "execution_count": 0,
      "outputs": [
        {
          "output_type": "stream",
          "text": [
            "Epoch 1/5\n",
            "2000000/2000000 [==============================] - 10s 5us/step - loss: 0.6538 - acc: 0.6075\n",
            "Epoch 2/5\n",
            "2000000/2000000 [==============================] - 10s 5us/step - loss: 0.6306 - acc: 0.6413\n",
            "Epoch 3/5\n",
            "2000000/2000000 [==============================] - 10s 5us/step - loss: 0.6201 - acc: 0.6549\n",
            "Epoch 4/5\n",
            "2000000/2000000 [==============================] - 10s 5us/step - loss: 0.6113 - acc: 0.6657\n",
            "Epoch 5/5\n",
            "2000000/2000000 [==============================] - 10s 5us/step - loss: 0.6060 - acc: 0.6716\n"
          ],
          "name": "stdout"
        },
        {
          "output_type": "execute_result",
          "data": {
            "text/plain": [
              "0.7495039265612484"
            ]
          },
          "metadata": {
            "tags": []
          },
          "execution_count": 14
        }
      ]
    },
    {
      "metadata": {
        "id": "vSr6h2qT_hqd",
        "colab_type": "code",
        "outputId": "1a2c992a-dfef-4cc1-fdd5-fad80b4ccd5e",
        "colab": {
          "base_uri": "https://localhost:8080/",
          "height": 210
        }
      },
      "cell_type": "code",
      "source": [
        "### question 2:2.\tWith those same 3 architectures, run the SAME architecture but with 2 different (from sigmoid) activation functions.  \n",
        "#Google the Keras documentation for a look at different available activations. \n",
        "### architechture number 1 with one extra layer(total 3 layers) than the default Dr.Slater's code\n",
        "model = Sequential()\n",
        "model.add(Dense(50, input_dim=x.shape[1], kernel_initializer='uniform')) # X_train.shape[1] == 28 here\n",
        "model.add(Activation('relu'))\n",
        "model.add(Dropout(0.10))\n",
        "model.add(Dense(50, kernel_initializer='uniform'))\n",
        "model.add(Activation('relu'))\n",
        "model.add(Dropout(0.10))\n",
        "model.add(Dense(50, kernel_initializer='uniform'))\n",
        "model.add(Activation('relu'))\n",
        "model.add(Dropout(0.10))\n",
        "model.add(Dense(1, kernel_initializer='uniform')) \n",
        "model.add(Activation('relu'))\n",
        "\n",
        "sgd = SGD(lr=0.1, decay=1e-6, momentum=0.9, nesterov=True)\n",
        "model.compile(loss='binary_crossentropy', metrics=['accuracy'], optimizer=sgd)\n",
        "\n",
        "model.fit(x, y, epochs=5, batch_size=1000)\n",
        "roc_auc_score(y_test,model.predict(x_test))\n",
        "#end"
      ],
      "execution_count": 0,
      "outputs": [
        {
          "output_type": "stream",
          "text": [
            "Epoch 1/5\n",
            "2000000/2000000 [==============================] - 13s 6us/step - loss: 7.5009 - acc: 2.3650e-04\n",
            "Epoch 2/5\n",
            "2000000/2000000 [==============================] - 13s 6us/step - loss: 7.5023 - acc: 0.0000e+00\n",
            "Epoch 3/5\n",
            "2000000/2000000 [==============================] - 13s 7us/step - loss: 7.5023 - acc: 0.0000e+00\n",
            "Epoch 4/5\n",
            "2000000/2000000 [==============================] - 12s 6us/step - loss: 7.5023 - acc: 0.0000e+00\n",
            "Epoch 5/5\n",
            "2000000/2000000 [==============================] - 13s 6us/step - loss: 7.5023 - acc: 0.0000e+00\n"
          ],
          "name": "stdout"
        },
        {
          "output_type": "execute_result",
          "data": {
            "text/plain": [
              "0.4642680576320792"
            ]
          },
          "metadata": {
            "tags": []
          },
          "execution_count": 15
        }
      ]
    },
    {
      "metadata": {
        "id": "gW1rXNSD_1Gd",
        "colab_type": "code",
        "outputId": "57e897d5-fa0c-4424-dd69-3a5d8c4395e9",
        "colab": {
          "base_uri": "https://localhost:8080/",
          "height": 210
        }
      },
      "cell_type": "code",
      "source": [
        "### architechture number 2 with 5 layers i.e. 3 extra layers than the default Dr.Slater's code\n",
        "model = Sequential()\n",
        "model.add(Dense(50, input_dim=x.shape[1], kernel_initializer='uniform')) # X_train.shape[1] == 28 here\n",
        "model.add(Activation('relu'))\n",
        "model.add(Dropout(0.10))\n",
        "model.add(Dense(50, kernel_initializer='uniform'))\n",
        "model.add(Activation('relu'))\n",
        "model.add(Dropout(0.10))\n",
        "model.add(Dense(50, kernel_initializer='uniform'))\n",
        "model.add(Activation('relu'))\n",
        "model.add(Dropout(0.10))\n",
        "model.add(Dense(50, kernel_initializer='uniform'))\n",
        "model.add(Activation('relu'))\n",
        "model.add(Dropout(0.10))\n",
        "model.add(Dense(50, kernel_initializer='uniform'))\n",
        "model.add(Activation('relu'))\n",
        "model.add(Dropout(0.10))\n",
        "\n",
        "model.add(Dense(1, kernel_initializer='uniform')) \n",
        "model.add(Activation('relu'))\n",
        "\n",
        "sgd = SGD(lr=0.1, decay=1e-6, momentum=0.9, nesterov=True)\n",
        "model.compile(loss='binary_crossentropy', metrics=['accuracy'], optimizer=sgd)\n",
        "\n",
        "model.fit(x, y, epochs=5, batch_size=1000)\n",
        "roc_auc_score(y_test,model.predict(x_test))\n",
        "#end"
      ],
      "execution_count": 0,
      "outputs": [
        {
          "output_type": "stream",
          "text": [
            "Epoch 1/5\n",
            "2000000/2000000 [==============================] - 15s 8us/step - loss: 7.5030 - acc: 2.2800e-04\n",
            "Epoch 2/5\n",
            "2000000/2000000 [==============================] - 15s 7us/step - loss: 7.5023 - acc: 0.0000e+00\n",
            "Epoch 3/5\n",
            "2000000/2000000 [==============================] - 15s 7us/step - loss: 7.5023 - acc: 0.0000e+00\n",
            "Epoch 4/5\n",
            "2000000/2000000 [==============================] - 15s 7us/step - loss: 7.5023 - acc: 0.0000e+00\n",
            "Epoch 5/5\n",
            "2000000/2000000 [==============================] - 16s 8us/step - loss: 7.5023 - acc: 0.0000e+00\n"
          ],
          "name": "stdout"
        },
        {
          "output_type": "execute_result",
          "data": {
            "text/plain": [
              "0.4771313811766901"
            ]
          },
          "metadata": {
            "tags": []
          },
          "execution_count": 16
        }
      ]
    },
    {
      "metadata": {
        "id": "inOy9pwTuQBO",
        "colab_type": "code",
        "outputId": "08c67f1f-5c4b-48e4-b68d-e5193b016bc2",
        "colab": {
          "base_uri": "https://localhost:8080/",
          "height": 210
        }
      },
      "cell_type": "code",
      "source": [
        "### question 2:2.\tWith those same 3 architectures, run the SAME architecture but with 2 different (from sigmoid) activation functions.  \n",
        "#Google the Keras documentation for a look at different available activations. \n",
        "### architechture number 3 with only 2 layers (one less than the default Dr. Slater's code)\n",
        "model = Sequential()\n",
        "model.add(Dense(50, input_dim=x.shape[1], kernel_initializer='uniform')) # X_train.shape[1] == 28 here\n",
        "model.add(Activation('relu'))\n",
        "model.add(Dropout(0.10))\n",
        "model.add(Dense(1, kernel_initializer='uniform')) \n",
        "model.add(Activation('relu'))\n",
        "\n",
        "sgd = SGD(lr=0.1, decay=1e-6, momentum=0.9, nesterov=True)\n",
        "model.compile(loss='binary_crossentropy', metrics=['accuracy'], optimizer=sgd)\n",
        "\n",
        "model.fit(x, y, epochs=5, batch_size=1000)\n",
        "roc_auc_score(y_test,model.predict(x_test))\n",
        "#end"
      ],
      "execution_count": 0,
      "outputs": [
        {
          "output_type": "stream",
          "text": [
            "Epoch 1/5\n",
            "2000000/2000000 [==============================] - 11s 5us/step - loss: 7.4995 - acc: 2.4850e-04\n",
            "Epoch 2/5\n",
            "2000000/2000000 [==============================] - 10s 5us/step - loss: 7.5023 - acc: 0.0000e+00\n",
            "Epoch 3/5\n",
            "2000000/2000000 [==============================] - 10s 5us/step - loss: 7.5023 - acc: 0.0000e+00\n",
            "Epoch 4/5\n",
            "2000000/2000000 [==============================] - 10s 5us/step - loss: 7.5023 - acc: 0.0000e+00\n",
            "Epoch 5/5\n",
            "2000000/2000000 [==============================] - 10s 5us/step - loss: 7.5023 - acc: 0.0000e+00\n"
          ],
          "name": "stdout"
        },
        {
          "output_type": "execute_result",
          "data": {
            "text/plain": [
              "0.46336927011601925"
            ]
          },
          "metadata": {
            "tags": []
          },
          "execution_count": 17
        }
      ]
    },
    {
      "metadata": {
        "id": "QNW5fx1J_FHi",
        "colab_type": "code",
        "outputId": "532f879f-c8fb-4005-da49-afeb1c1b9a60",
        "colab": {
          "base_uri": "https://localhost:8080/",
          "height": 210
        }
      },
      "cell_type": "code",
      "source": [
        "### question 2:2.\tWith those same 3 architectures, run the SAME architecture but with 2 different (from sigmoid) activation functions.  \n",
        "#Google the Keras documentation for a look at different available activations. \n",
        "### architechture number 1 with one extra layer(total 3 layers) than the default Dr.Slater's code\n",
        "model = Sequential()\n",
        "model.add(Dense(50, input_dim=x.shape[1], kernel_initializer='uniform')) # X_train.shape[1] == 28 here\n",
        "model.add(Activation('tanh'))\n",
        "model.add(Dropout(0.10))\n",
        "model.add(Dense(50, kernel_initializer='uniform'))\n",
        "model.add(Activation('tanh'))\n",
        "model.add(Dropout(0.10))\n",
        "model.add(Dense(50, kernel_initializer='uniform'))\n",
        "model.add(Activation('tanh'))\n",
        "model.add(Dropout(0.10))\n",
        "model.add(Dense(1, kernel_initializer='uniform')) \n",
        "model.add(Activation('tanh'))\n",
        "\n",
        "sgd = SGD(lr=0.1, decay=1e-6, momentum=0.9, nesterov=True)\n",
        "model.compile(loss='binary_crossentropy', metrics=['accuracy'], optimizer=sgd)\n",
        "\n",
        "model.fit(x, y, epochs=5, batch_size=1000)\n",
        "roc_auc_score(y_test,model.predict(x_test))\n",
        "#end"
      ],
      "execution_count": 0,
      "outputs": [
        {
          "output_type": "stream",
          "text": [
            "Epoch 1/5\n",
            "2000000/2000000 [==============================] - 13s 7us/step - loss: 7.5021 - acc: 0.5294\n",
            "Epoch 2/5\n",
            "2000000/2000000 [==============================] - 13s 6us/step - loss: 7.5023 - acc: 0.5294\n",
            "Epoch 3/5\n",
            "2000000/2000000 [==============================] - 13s 6us/step - loss: 7.5023 - acc: 0.5294\n",
            "Epoch 4/5\n",
            "2000000/2000000 [==============================] - 12s 6us/step - loss: 7.5023 - acc: 0.5294\n",
            "Epoch 5/5\n",
            "2000000/2000000 [==============================] - 13s 6us/step - loss: 7.5023 - acc: 0.5294\n"
          ],
          "name": "stdout"
        },
        {
          "output_type": "execute_result",
          "data": {
            "text/plain": [
              "0.5"
            ]
          },
          "metadata": {
            "tags": []
          },
          "execution_count": 18
        }
      ]
    },
    {
      "metadata": {
        "id": "brdXfkPiBABs",
        "colab_type": "code",
        "outputId": "1c128cd6-8b21-429b-df0e-02f058c71f48",
        "colab": {
          "base_uri": "https://localhost:8080/",
          "height": 210
        }
      },
      "cell_type": "code",
      "source": [
        "### architechture number 2 with 5 layers i.e. 3 extra layers than the default Dr.Slater's code\n",
        "model = Sequential()\n",
        "model.add(Dense(50, input_dim=x.shape[1], kernel_initializer='uniform')) # X_train.shape[1] == 28 here\n",
        "model.add(Activation('tanh'))\n",
        "model.add(Dropout(0.10))\n",
        "model.add(Dense(50, kernel_initializer='uniform'))\n",
        "model.add(Activation('tanh'))\n",
        "model.add(Dropout(0.10))\n",
        "model.add(Dense(50, kernel_initializer='uniform'))\n",
        "model.add(Activation('tanh'))\n",
        "model.add(Dropout(0.10))\n",
        "model.add(Dense(50, kernel_initializer='uniform'))\n",
        "model.add(Activation('tanh'))\n",
        "model.add(Dropout(0.10))\n",
        "model.add(Dense(50, kernel_initializer='uniform'))\n",
        "model.add(Activation('tanh'))\n",
        "model.add(Dropout(0.10))\n",
        "\n",
        "model.add(Dense(1, kernel_initializer='uniform')) \n",
        "model.add(Activation('tanh'))\n",
        "\n",
        "sgd = SGD(lr=0.1, decay=1e-6, momentum=0.9, nesterov=True)\n",
        "model.compile(loss='binary_crossentropy', metrics=['accuracy'], optimizer=sgd)\n",
        "\n",
        "model.fit(x, y, epochs=5, batch_size=1000)\n",
        "roc_auc_score(y_test,model.predict(x_test))\n",
        "#end"
      ],
      "execution_count": 0,
      "outputs": [
        {
          "output_type": "stream",
          "text": [
            "Epoch 1/5\n",
            "2000000/2000000 [==============================] - 16s 8us/step - loss: 7.5020 - acc: 0.5294\n",
            "Epoch 2/5\n",
            "2000000/2000000 [==============================] - 15s 7us/step - loss: 7.5023 - acc: 0.5294\n",
            "Epoch 3/5\n",
            "2000000/2000000 [==============================] - 15s 7us/step - loss: 7.5023 - acc: 0.5294\n",
            "Epoch 4/5\n",
            "2000000/2000000 [==============================] - 15s 7us/step - loss: 7.5023 - acc: 0.5294\n",
            "Epoch 5/5\n",
            "2000000/2000000 [==============================] - 16s 8us/step - loss: 7.5023 - acc: 0.5294\n"
          ],
          "name": "stdout"
        },
        {
          "output_type": "execute_result",
          "data": {
            "text/plain": [
              "0.5"
            ]
          },
          "metadata": {
            "tags": []
          },
          "execution_count": 19
        }
      ]
    },
    {
      "metadata": {
        "id": "vBOQ9Yh-BP8-",
        "colab_type": "code",
        "outputId": "e7137af4-5adc-425e-fde8-a7e59d3a36fb",
        "colab": {
          "base_uri": "https://localhost:8080/",
          "height": 210
        }
      },
      "cell_type": "code",
      "source": [
        "### architechture number 3 with only 2 layers (one less than the default Dr. Slater's code)\n",
        "model = Sequential()\n",
        "model.add(Dense(50, input_dim=x.shape[1], kernel_initializer='uniform')) # X_train.shape[1] == 28 here\n",
        "model.add(Activation('tanh'))\n",
        "model.add(Dropout(0.10))\n",
        "model.add(Dense(1, kernel_initializer='uniform')) \n",
        "model.add(Activation('tanh'))\n",
        "\n",
        "sgd = SGD(lr=0.1, decay=1e-6, momentum=0.9, nesterov=True)\n",
        "model.compile(loss='binary_crossentropy', metrics=['accuracy'], optimizer=sgd)\n",
        "\n",
        "model.fit(x, y, epochs=5, batch_size=1000)\n",
        "roc_auc_score(y_test,model.predict(x_test))\n",
        "#end"
      ],
      "execution_count": 0,
      "outputs": [
        {
          "output_type": "stream",
          "text": [
            "Epoch 1/5\n",
            "2000000/2000000 [==============================] - 11s 5us/step - loss: 8.5181 - acc: 0.0016\n",
            "Epoch 2/5\n",
            "2000000/2000000 [==============================] - 10s 5us/step - loss: 8.5310 - acc: 2.3150e-04\n",
            "Epoch 3/5\n",
            "2000000/2000000 [==============================] - 10s 5us/step - loss: 8.5322 - acc: 9.6500e-05\n",
            "Epoch 4/5\n",
            "2000000/2000000 [==============================] - 10s 5us/step - loss: 8.5327 - acc: 3.2000e-05\n",
            "Epoch 5/5\n",
            "2000000/2000000 [==============================] - 10s 5us/step - loss: 8.3461 - acc: 0.0937\n"
          ],
          "name": "stdout"
        },
        {
          "output_type": "execute_result",
          "data": {
            "text/plain": [
              "0.5"
            ]
          },
          "metadata": {
            "tags": []
          },
          "execution_count": 20
        }
      ]
    },
    {
      "metadata": {
        "id": "Psne0odKBqM3",
        "colab_type": "code",
        "outputId": "2986ed68-bd3f-4655-8f31-565926d5c50f",
        "colab": {
          "base_uri": "https://localhost:8080/",
          "height": 210
        }
      },
      "cell_type": "code",
      "source": [
        "###Q3.\tTake your best model from parts 1&2 and vary the batch size by at least 2 orders of magnitude\n",
        "## architecture number 3 with activation funtion Sigmoid gives the best accuracy result from Q1 and 2 models\n",
        "#thus we will use arch 3 from Q1 which is best model to answer Q3\n",
        "### architechture number 3 with only 2 layers (one less than the default Dr. Slater's code)\n",
        "model = Sequential()\n",
        "model.add(Dense(50, input_dim=x.shape[1], kernel_initializer='uniform')) # X_train.shape[1] == 28 here\n",
        "model.add(Activation('sigmoid'))\n",
        "model.add(Dropout(0.10))\n",
        "model.add(Dense(1, kernel_initializer='uniform')) \n",
        "model.add(Activation('sigmoid'))\n",
        "\n",
        "sgd = SGD(lr=0.1, decay=1e-6, momentum=0.9, nesterov=True)\n",
        "model.compile(loss='binary_crossentropy', metrics=['accuracy'], optimizer=sgd)\n",
        "\n",
        "model.fit(x, y, epochs=5, batch_size=100000)\n",
        "roc_auc_score(y_test,model.predict(x_test))\n",
        "#end\n"
      ],
      "execution_count": 0,
      "outputs": [
        {
          "output_type": "stream",
          "text": [
            "Epoch 1/5\n",
            "2000000/2000000 [==============================] - 3s 2us/step - loss: 0.6915 - acc: 0.5293\n",
            "Epoch 2/5\n",
            "2000000/2000000 [==============================] - 3s 1us/step - loss: 0.6911 - acc: 0.5295\n",
            "Epoch 3/5\n",
            "2000000/2000000 [==============================] - 3s 1us/step - loss: 0.6906 - acc: 0.5297\n",
            "Epoch 4/5\n",
            "2000000/2000000 [==============================] - 3s 1us/step - loss: 0.6900 - acc: 0.5315\n",
            "Epoch 5/5\n",
            "2000000/2000000 [==============================] - 3s 1us/step - loss: 0.6892 - acc: 0.5360\n"
          ],
          "name": "stdout"
        },
        {
          "output_type": "execute_result",
          "data": {
            "text/plain": [
              "0.6041122363668072"
            ]
          },
          "metadata": {
            "tags": []
          },
          "execution_count": 21
        }
      ]
    },
    {
      "metadata": {
        "id": "hU2g41fMDWrP",
        "colab_type": "code",
        "outputId": "e6cbbbc5-6ca7-440a-961e-b01a4c0affd0",
        "colab": {
          "base_uri": "https://localhost:8080/",
          "height": 210
        }
      },
      "cell_type": "code",
      "source": [
        "model = Sequential()\n",
        "model.add(Dense(50, input_dim=x.shape[1], kernel_initializer='uniform')) # X_train.shape[1] == 28 here\n",
        "model.add(Activation('sigmoid'))\n",
        "model.add(Dropout(0.10))\n",
        "model.add(Dense(1, kernel_initializer='uniform')) \n",
        "model.add(Activation('sigmoid'))\n",
        "\n",
        "sgd = SGD(lr=0.1, decay=1e-6, momentum=0.9, nesterov=True)\n",
        "model.compile(loss='binary_crossentropy', metrics=['accuracy'], optimizer=sgd)\n",
        "\n",
        "model.fit(x, y, epochs=5, batch_size=1000000)\n",
        "roc_auc_score(y_test,model.predict(x_test))\n",
        "#end"
      ],
      "execution_count": 0,
      "outputs": [
        {
          "output_type": "stream",
          "text": [
            "Epoch 1/5\n",
            "2000000/2000000 [==============================] - 3s 2us/step - loss: 0.6941 - acc: 0.4980\n",
            "Epoch 2/5\n",
            "2000000/2000000 [==============================] - 2s 1us/step - loss: 0.6921 - acc: 0.5294\n",
            "Epoch 3/5\n",
            "2000000/2000000 [==============================] - 2s 1us/step - loss: 0.6922 - acc: 0.5294\n",
            "Epoch 4/5\n",
            "2000000/2000000 [==============================] - 2s 1us/step - loss: 0.6917 - acc: 0.5293\n",
            "Epoch 5/5\n",
            "2000000/2000000 [==============================] - 2s 1us/step - loss: 0.6916 - acc: 0.5291\n"
          ],
          "name": "stdout"
        },
        {
          "output_type": "execute_result",
          "data": {
            "text/plain": [
              "0.5011590059249457"
            ]
          },
          "metadata": {
            "tags": []
          },
          "execution_count": 25
        }
      ]
    },
    {
      "metadata": {
        "id": "dfqwwUcov5rl",
        "colab_type": "code",
        "outputId": "034df6d8-f514-47a9-8876-fe4be782eea1",
        "colab": {
          "base_uri": "https://localhost:8080/",
          "height": 210
        }
      },
      "cell_type": "code",
      "source": [
        "#(scale=1.0, mode='fan_in', distribution='normal', seed=None)\n",
        "#initializer = RandomNormal(mean=0.0, stddev=0.05, seed=23)\n",
        "initializer = \"RandomNormal\"\n",
        "model = Sequential()\n",
        "model.add(Dense(50, input_dim=x.shape[1], kernel_initializer=initializer)) # X_train.shape[1] == 28 here\n",
        "model.add(Activation('sigmoid'))\n",
        "model.add(Dropout(0.10))\n",
        "model.add(Dense(1, kernel_initializer=initializer)) \n",
        "model.add(Activation('sigmoid'))\n",
        "\n",
        "sgd = SGD(lr=0.1, decay=1e-6, momentum=0.9, nesterov=True)\n",
        "model.compile(loss='binary_crossentropy', metrics=['accuracy'], optimizer=sgd)\n",
        "\n",
        "model.fit(x, y, epochs=5, batch_size=100)\n",
        "roc_auc_score(y_test,model.predict(x_test))\n",
        "#end"
      ],
      "execution_count": 0,
      "outputs": [
        {
          "output_type": "stream",
          "text": [
            "Epoch 1/5\n",
            "2000000/2000000 [==============================] - 77s 39us/step - loss: 0.6154 - acc: 0.6589\n",
            "Epoch 2/5\n",
            "2000000/2000000 [==============================] - 77s 39us/step - loss: 0.5917 - acc: 0.6843\n",
            "Epoch 3/5\n",
            "2000000/2000000 [==============================] - 76s 38us/step - loss: 0.5829 - acc: 0.6930\n",
            "Epoch 4/5\n",
            "2000000/2000000 [==============================] - 78s 39us/step - loss: 0.5777 - acc: 0.6974\n",
            "Epoch 5/5\n",
            "2000000/2000000 [==============================] - 76s 38us/step - loss: 0.5744 - acc: 0.7002\n"
          ],
          "name": "stdout"
        },
        {
          "output_type": "execute_result",
          "data": {
            "text/plain": [
              "0.7828252921226494"
            ]
          },
          "metadata": {
            "tags": []
          },
          "execution_count": 26
        }
      ]
    },
    {
      "metadata": {
        "id": "gWJx6JIxwPVZ",
        "colab_type": "code",
        "outputId": "6334484d-2c00-4a67-ec1e-287105739581",
        "colab": {
          "base_uri": "https://localhost:8080/",
          "height": 210
        }
      },
      "cell_type": "code",
      "source": [
        "initializer = \"Orthogonal\"\n",
        "model = Sequential()\n",
        "model.add(Dense(50, input_dim=x.shape[1], kernel_initializer= initializer)) # X_train.shape[1] == 28 here\n",
        "model.add(Activation('sigmoid'))\n",
        "model.add(Dropout(0.10))\n",
        "model.add(Dense(1, kernel_initializer= initializer)) \n",
        "model.add(Activation('sigmoid'))\n",
        "\n",
        "sgd = SGD(lr=0.1, decay=1e-6, momentum=0.9, nesterov=True)\n",
        "model.compile(loss='binary_crossentropy', metrics=['accuracy'], optimizer=sgd)\n",
        "\n",
        "model.fit(x, y, epochs=5, batch_size=100)\n",
        "roc_auc_score(y_test,model.predict(x_test))\n",
        "#end"
      ],
      "execution_count": 0,
      "outputs": [
        {
          "output_type": "stream",
          "text": [
            "Epoch 1/5\n",
            "2000000/2000000 [==============================] - 78s 39us/step - loss: 0.6133 - acc: 0.6611\n",
            "Epoch 2/5\n",
            "2000000/2000000 [==============================] - 77s 38us/step - loss: 0.5897 - acc: 0.6870\n",
            "Epoch 3/5\n",
            "2000000/2000000 [==============================] - 78s 39us/step - loss: 0.5805 - acc: 0.6946\n",
            "Epoch 4/5\n",
            "2000000/2000000 [==============================] - 78s 39us/step - loss: 0.5753 - acc: 0.6991\n",
            "Epoch 5/5\n",
            "2000000/2000000 [==============================] - 78s 39us/step - loss: 0.5725 - acc: 0.7015\n"
          ],
          "name": "stdout"
        },
        {
          "output_type": "execute_result",
          "data": {
            "text/plain": [
              "0.7836679709890533"
            ]
          },
          "metadata": {
            "tags": []
          },
          "execution_count": 28
        }
      ]
    },
    {
      "metadata": {
        "id": "0a8wYCE2wTDx",
        "colab_type": "code",
        "outputId": "862d03b7-6afe-4eef-d826-8d555c826df6",
        "colab": {
          "base_uri": "https://localhost:8080/",
          "height": 210
        }
      },
      "cell_type": "code",
      "source": [
        "initializer = \"VarianceScaling\"\n",
        "model = Sequential()\n",
        "model.add(Dense(50, input_dim=x.shape[1], kernel_initializer= initializer)) # X_train.shape[1] == 28 here\n",
        "model.add(Activation('sigmoid'))\n",
        "model.add(Dropout(0.10))\n",
        "model.add(Dense(1, kernel_initializer= initializer)) \n",
        "model.add(Activation('sigmoid'))\n",
        "\n",
        "sgd = SGD(lr=0.1, decay=1e-6, momentum=0.9, nesterov=True)\n",
        "model.compile(loss='binary_crossentropy', metrics=['accuracy'], optimizer=sgd)\n",
        "\n",
        "model.fit(x, y, epochs=5, batch_size=100)\n",
        "roc_auc_score(y_test,model.predict(x_test))\n",
        "#end"
      ],
      "execution_count": 0,
      "outputs": [
        {
          "output_type": "stream",
          "text": [
            "Epoch 1/5\n",
            "2000000/2000000 [==============================] - 78s 39us/step - loss: 0.6110 - acc: 0.6637\n",
            "Epoch 2/5\n",
            "2000000/2000000 [==============================] - 76s 38us/step - loss: 0.5879 - acc: 0.6886\n",
            "Epoch 3/5\n",
            "2000000/2000000 [==============================] - 77s 39us/step - loss: 0.5799 - acc: 0.6956\n",
            "Epoch 4/5\n",
            "2000000/2000000 [==============================] - 79s 40us/step - loss: 0.5750 - acc: 0.6996\n",
            "Epoch 5/5\n",
            "2000000/2000000 [==============================] - 79s 39us/step - loss: 0.5722 - acc: 0.7024\n"
          ],
          "name": "stdout"
        },
        {
          "output_type": "execute_result",
          "data": {
            "text/plain": [
              "0.7861495445836257"
            ]
          },
          "metadata": {
            "tags": []
          },
          "execution_count": 30
        }
      ]
    },
    {
      "metadata": {
        "id": "Y37avhmxSN0S",
        "colab_type": "code",
        "outputId": "e83bc058-849c-43e7-8d3c-452cfe769e13",
        "colab": {
          "base_uri": "https://localhost:8080/",
          "height": 210
        }
      },
      "cell_type": "code",
      "source": [
        "###Q5:\tTake your best results from #3 and try 3 different optimizers.\n",
        "\n",
        "from keras import optimizers\n",
        "#keras.optimizers.RMSprop(lr=0.001, rho=0.9, epsilon=None, decay=0.0)\n",
        "\n",
        "model = Sequential()\n",
        "model.add(Dense(50, input_dim=x.shape[1], kernel_initializer='uniform')) # X_train.shape[1] == 28 here\n",
        "model.add(Activation('sigmoid'))\n",
        "model.add(Dropout(0.10))\n",
        "model.add(Dense(1, kernel_initializer='uniform')) \n",
        "model.add(Activation('sigmoid'))\n",
        "\n",
        "#sgd = SGD(lr=0.1, decay=1e-6, momentum=0.9, nesterov=True)\n",
        "rms = optimizers.RMSprop(lr=0.001, rho=0.9, epsilon=None, decay=0.0)\n",
        "model.compile(loss='binary_crossentropy', metrics=['accuracy'], optimizer=rms)\n",
        "\n",
        "model.fit(x, y, epochs=5, batch_size=1000)\n",
        "roc_auc_score(y_test,model.predict(x_test))\n",
        "#end"
      ],
      "execution_count": 0,
      "outputs": [
        {
          "output_type": "stream",
          "text": [
            "Epoch 1/5\n",
            "2000000/2000000 [==============================] - 11s 6us/step - loss: 0.6558 - acc: 0.6057\n",
            "Epoch 2/5\n",
            "2000000/2000000 [==============================] - 10s 5us/step - loss: 0.6420 - acc: 0.6260\n",
            "Epoch 3/5\n",
            "2000000/2000000 [==============================] - 10s 5us/step - loss: 0.6338 - acc: 0.6376\n",
            "Epoch 4/5\n",
            "2000000/2000000 [==============================] - 10s 5us/step - loss: 0.6254 - acc: 0.6497\n",
            "Epoch 5/5\n",
            "2000000/2000000 [==============================] - 10s 5us/step - loss: 0.6186 - acc: 0.6577\n"
          ],
          "name": "stdout"
        },
        {
          "output_type": "execute_result",
          "data": {
            "text/plain": [
              "0.7246412328597495"
            ]
          },
          "metadata": {
            "tags": []
          },
          "execution_count": 32
        }
      ]
    },
    {
      "metadata": {
        "id": "5cwlqJyLTuuZ",
        "colab_type": "code",
        "outputId": "660187d6-dd60-475f-b123-fb8fc53180f5",
        "colab": {
          "base_uri": "https://localhost:8080/",
          "height": 210
        }
      },
      "cell_type": "code",
      "source": [
        "###Q5:\tTake your best results from #3 and try 3 different optimizers.\n",
        "\n",
        "\n",
        "#keras.optimizers.RMSprop(lr=0.001, rho=0.9, epsilon=None, decay=0.0)\n",
        "\n",
        "model = Sequential()\n",
        "model.add(Dense(50, input_dim=x.shape[1], kernel_initializer='uniform')) # X_train.shape[1] == 28 here\n",
        "model.add(Activation('sigmoid'))\n",
        "model.add(Dropout(0.10))\n",
        "model.add(Dense(1, kernel_initializer='uniform')) \n",
        "model.add(Activation('sigmoid'))\n",
        "\n",
        "#sgd = SGD(lr=0.1, decay=1e-6, momentum=0.9, nesterov=True)\n",
        "adadel = optimizers.Adadelta(lr=1.0, rho=0.95, epsilon=None, decay=0.0)\n",
        "model.compile(loss='binary_crossentropy', metrics=['accuracy'], optimizer=adadel)\n",
        "\n",
        "model.fit(x, y, epochs=5, batch_size=1000)\n",
        "roc_auc_score(y_test,model.predict(x_test))\n",
        "#end"
      ],
      "execution_count": 0,
      "outputs": [
        {
          "output_type": "stream",
          "text": [
            "Epoch 1/5\n",
            "2000000/2000000 [==============================] - 13s 6us/step - loss: 0.6633 - acc: 0.5936\n",
            "Epoch 2/5\n",
            "2000000/2000000 [==============================] - 11s 6us/step - loss: 0.6457 - acc: 0.6212\n",
            "Epoch 3/5\n",
            "2000000/2000000 [==============================] - 11s 6us/step - loss: 0.6377 - acc: 0.6320\n",
            "Epoch 4/5\n",
            "2000000/2000000 [==============================] - 11s 6us/step - loss: 0.6297 - acc: 0.6432\n",
            "Epoch 5/5\n",
            "2000000/2000000 [==============================] - 11s 6us/step - loss: 0.6237 - acc: 0.6512\n"
          ],
          "name": "stdout"
        },
        {
          "output_type": "execute_result",
          "data": {
            "text/plain": [
              "0.7166495270991562"
            ]
          },
          "metadata": {
            "tags": []
          },
          "execution_count": 33
        }
      ]
    },
    {
      "metadata": {
        "id": "8c7Sh-iBUPW9",
        "colab_type": "code",
        "outputId": "6c354046-185e-45f4-d020-e4504ca78203",
        "colab": {
          "base_uri": "https://localhost:8080/",
          "height": 210
        }
      },
      "cell_type": "code",
      "source": [
        "###Q5:\tTake your best results from #3 and try 3 different optimizers.\n",
        "\n",
        "from keras import optimizers\n",
        "#keras.optimizers.RMSprop(lr=0.001, rho=0.9, epsilon=None, decay=0.0)\n",
        "\n",
        "model = Sequential()\n",
        "model.add(Dense(50, input_dim=x.shape[1], kernel_initializer='uniform')) # X_train.shape[1] == 28 here\n",
        "model.add(Activation('sigmoid'))\n",
        "model.add(Dropout(0.10))\n",
        "model.add(Dense(1, kernel_initializer='uniform')) \n",
        "model.add(Activation('sigmoid'))\n",
        "\n",
        "#sgd = SGD(lr=0.1, decay=1e-6, momentum=0.9, nesterov=True)\n",
        "adam = optimizers.Adam(lr=0.001, beta_1=0.9, beta_2=0.999, epsilon=None, decay=0.0, amsgrad=False)\n",
        "model.compile(loss='binary_crossentropy', metrics=['accuracy'], optimizer=adam)\n",
        "\n",
        "model.fit(x, y, epochs=5, batch_size=1000)\n",
        "roc_auc_score(y_test,model.predict(x_test))\n",
        "#end"
      ],
      "execution_count": 0,
      "outputs": [
        {
          "output_type": "stream",
          "text": [
            "Epoch 1/5\n",
            "2000000/2000000 [==============================] - 13s 6us/step - loss: 0.6538 - acc: 0.6085\n",
            "Epoch 2/5\n",
            "2000000/2000000 [==============================] - 11s 6us/step - loss: 0.6396 - acc: 0.6293\n",
            "Epoch 3/5\n",
            "2000000/2000000 [==============================] - 11s 6us/step - loss: 0.6294 - acc: 0.6432\n",
            "Epoch 4/5\n",
            "2000000/2000000 [==============================] - 11s 6us/step - loss: 0.6214 - acc: 0.6545\n",
            "Epoch 5/5\n",
            "2000000/2000000 [==============================] - 11s 6us/step - loss: 0.6144 - acc: 0.6619\n"
          ],
          "name": "stdout"
        },
        {
          "output_type": "execute_result",
          "data": {
            "text/plain": [
              "0.7319110737991634"
            ]
          },
          "metadata": {
            "tags": []
          },
          "execution_count": 36
        }
      ]
    },
    {
      "metadata": {
        "id": "wO-GEsWyWdHV",
        "colab_type": "code",
        "outputId": "c8ac3772-de43-46b2-92b5-afb1aede1c04",
        "colab": {
          "base_uri": "https://localhost:8080/",
          "height": 1319
        }
      },
      "cell_type": "code",
      "source": [
        "####Q6.\tTake all that you’ve learned so far and give your best shot at producing a score. \n",
        "initializer = \"VarianceScaling\"\n",
        "model = Sequential()\n",
        "model.add(Dense(50, input_dim=x.shape[1], kernel_initializer= initializer)) # X_train.shape[1] == 28 here\n",
        "model.add(Activation('sigmoid'))\n",
        "model.add(Dropout(0.10))\n",
        "model.add(Dense(1, kernel_initializer= initializer)) \n",
        "model.add(Activation('sigmoid'))\n",
        "\n",
        "sgd = SGD(lr=0.1, decay=1e-6, momentum=0.9, nesterov=True)\n",
        "model.compile(loss='binary_crossentropy', metrics=['accuracy'], optimizer=sgd)\n",
        "\n",
        "model.fit(x, y, epochs=50, batch_size=100)\n",
        "roc_auc_score(y_test,model.predict(x_test))\n",
        "#end"
      ],
      "execution_count": 0,
      "outputs": [
        {
          "output_type": "stream",
          "text": [
            "Epoch 1/50\n",
            "2000000/2000000 [==============================] - 80s 40us/step - loss: 0.6116 - acc: 0.6634\n",
            "Epoch 2/50\n",
            "2000000/2000000 [==============================] - 79s 40us/step - loss: 0.5880 - acc: 0.6877\n",
            "Epoch 3/50\n",
            "2000000/2000000 [==============================] - 79s 39us/step - loss: 0.5801 - acc: 0.6953\n",
            "Epoch 4/50\n",
            "2000000/2000000 [==============================] - 79s 39us/step - loss: 0.5756 - acc: 0.6989\n",
            "Epoch 5/50\n",
            "2000000/2000000 [==============================] - 80s 40us/step - loss: 0.5727 - acc: 0.7014\n",
            "Epoch 6/50\n",
            "2000000/2000000 [==============================] - 79s 40us/step - loss: 0.5706 - acc: 0.7028\n",
            "Epoch 7/50\n",
            "2000000/2000000 [==============================] - 80s 40us/step - loss: 0.5687 - acc: 0.7047\n",
            "Epoch 8/50\n",
            "2000000/2000000 [==============================] - 79s 39us/step - loss: 0.5672 - acc: 0.7057\n",
            "Epoch 9/50\n",
            "2000000/2000000 [==============================] - 80s 40us/step - loss: 0.5658 - acc: 0.7068\n",
            "Epoch 10/50\n",
            "2000000/2000000 [==============================] - 79s 39us/step - loss: 0.5644 - acc: 0.7078\n",
            "Epoch 11/50\n",
            "2000000/2000000 [==============================] - 85s 43us/step - loss: 0.5635 - acc: 0.7083\n",
            "Epoch 12/50\n",
            "2000000/2000000 [==============================] - 83s 41us/step - loss: 0.5622 - acc: 0.7096\n",
            "Epoch 13/50\n",
            "2000000/2000000 [==============================] - 82s 41us/step - loss: 0.5615 - acc: 0.7099\n",
            "Epoch 14/50\n",
            "2000000/2000000 [==============================] - 82s 41us/step - loss: 0.5604 - acc: 0.7111\n",
            "Epoch 15/50\n",
            "2000000/2000000 [==============================] - 82s 41us/step - loss: 0.5599 - acc: 0.7111\n",
            "Epoch 16/50\n",
            "2000000/2000000 [==============================] - 81s 40us/step - loss: 0.5591 - acc: 0.7119\n",
            "Epoch 17/50\n",
            "2000000/2000000 [==============================] - 82s 41us/step - loss: 0.5583 - acc: 0.7120\n",
            "Epoch 18/50\n",
            "2000000/2000000 [==============================] - 81s 41us/step - loss: 0.5577 - acc: 0.7126\n",
            "Epoch 19/50\n",
            "2000000/2000000 [==============================] - 80s 40us/step - loss: 0.5573 - acc: 0.7130\n",
            "Epoch 20/50\n",
            "2000000/2000000 [==============================] - 81s 41us/step - loss: 0.5566 - acc: 0.7134\n",
            "Epoch 21/50\n",
            "2000000/2000000 [==============================] - 81s 41us/step - loss: 0.5560 - acc: 0.7140\n",
            "Epoch 22/50\n",
            "2000000/2000000 [==============================] - 82s 41us/step - loss: 0.5559 - acc: 0.7139\n",
            "Epoch 23/50\n",
            "2000000/2000000 [==============================] - 81s 41us/step - loss: 0.5552 - acc: 0.7143\n",
            "Epoch 24/50\n",
            "2000000/2000000 [==============================] - 80s 40us/step - loss: 0.5551 - acc: 0.7147\n",
            "Epoch 25/50\n",
            "2000000/2000000 [==============================] - 81s 41us/step - loss: 0.5544 - acc: 0.7150\n",
            "Epoch 26/50\n",
            "2000000/2000000 [==============================] - 82s 41us/step - loss: 0.5544 - acc: 0.7149\n",
            "Epoch 27/50\n",
            "2000000/2000000 [==============================] - 81s 41us/step - loss: 0.5540 - acc: 0.7151\n",
            "Epoch 28/50\n",
            "2000000/2000000 [==============================] - 82s 41us/step - loss: 0.5538 - acc: 0.7152\n",
            "Epoch 29/50\n",
            "2000000/2000000 [==============================] - 82s 41us/step - loss: 0.5536 - acc: 0.7155\n",
            "Epoch 30/50\n",
            "2000000/2000000 [==============================] - 81s 40us/step - loss: 0.5530 - acc: 0.7160\n",
            "Epoch 31/50\n",
            "2000000/2000000 [==============================] - 82s 41us/step - loss: 0.5529 - acc: 0.7159\n",
            "Epoch 32/50\n",
            "2000000/2000000 [==============================] - 82s 41us/step - loss: 0.5525 - acc: 0.7162\n",
            "Epoch 33/50\n",
            "2000000/2000000 [==============================] - 81s 41us/step - loss: 0.5522 - acc: 0.7165\n",
            "Epoch 34/50\n",
            "2000000/2000000 [==============================] - 81s 41us/step - loss: 0.5523 - acc: 0.7165\n",
            "Epoch 35/50\n",
            "2000000/2000000 [==============================] - 83s 41us/step - loss: 0.5519 - acc: 0.7167\n",
            "Epoch 36/50\n",
            "2000000/2000000 [==============================] - 83s 41us/step - loss: 0.5517 - acc: 0.7170\n",
            "Epoch 37/50\n",
            "1986600/2000000 [============================>.] - ETA: 0s - loss: 0.5516 - acc: 0.7167Buffered data was truncated after reaching the output size limit."
          ],
          "name": "stdout"
        }
      ]
    },
    {
      "metadata": {
        "id": "lNUhdRGXntRQ",
        "colab_type": "code",
        "outputId": "fc2f083c-29ef-4eca-9baf-9a48820a2917",
        "colab": {
          "base_uri": "https://localhost:8080/",
          "height": 1794
        }
      },
      "cell_type": "code",
      "source": [
        "# MODEL 1 with epochs = 50 and batch size =1000\n",
        "####Q6.\tTake all that you’ve learned so far and give your best shot at producing a score. \n",
        "initializer = \"VarianceScaling\"\n",
        "model = Sequential()\n",
        "model.add(Dense(50, input_dim=x.shape[1], kernel_initializer= initializer)) # X_train.shape[1] == 28 here\n",
        "model.add(Activation('sigmoid'))\n",
        "model.add(Dropout(0.10))\n",
        "model.add(Dense(1, kernel_initializer= initializer)) \n",
        "model.add(Activation('sigmoid'))\n",
        "\n",
        "sgd = SGD(lr=0.1, decay=1e-6, momentum=0.9, nesterov=True)\n",
        "model.compile(loss='binary_crossentropy', metrics=['accuracy'], optimizer=sgd)\n",
        "\n",
        "model.fit(x, y, epochs=50, batch_size=1000)\n",
        "roc_auc_score(y_test,model.predict(x_test))\n",
        "#end"
      ],
      "execution_count": 0,
      "outputs": [
        {
          "output_type": "stream",
          "text": [
            "Epoch 1/50\n",
            "2000000/2000000 [==============================] - 12s 6us/step - loss: 0.6502 - acc: 0.6131\n",
            "Epoch 2/50\n",
            "2000000/2000000 [==============================] - 11s 5us/step - loss: 0.6260 - acc: 0.6471\n",
            "Epoch 3/50\n",
            "2000000/2000000 [==============================] - 10s 5us/step - loss: 0.6134 - acc: 0.6624\n",
            "Epoch 4/50\n",
            "2000000/2000000 [==============================] - 10s 5us/step - loss: 0.6062 - acc: 0.6704\n",
            "Epoch 5/50\n",
            "2000000/2000000 [==============================] - 10s 5us/step - loss: 0.6021 - acc: 0.6746\n",
            "Epoch 6/50\n",
            "2000000/2000000 [==============================] - 10s 5us/step - loss: 0.5991 - acc: 0.6775\n",
            "Epoch 7/50\n",
            "2000000/2000000 [==============================] - 10s 5us/step - loss: 0.5968 - acc: 0.6798\n",
            "Epoch 8/50\n",
            "2000000/2000000 [==============================] - 10s 5us/step - loss: 0.5945 - acc: 0.6821\n",
            "Epoch 9/50\n",
            "2000000/2000000 [==============================] - 10s 5us/step - loss: 0.5923 - acc: 0.6843\n",
            "Epoch 10/50\n",
            "2000000/2000000 [==============================] - 10s 5us/step - loss: 0.5902 - acc: 0.6867\n",
            "Epoch 11/50\n",
            "2000000/2000000 [==============================] - 10s 5us/step - loss: 0.5887 - acc: 0.6882\n",
            "Epoch 12/50\n",
            "2000000/2000000 [==============================] - 10s 5us/step - loss: 0.5869 - acc: 0.6898\n",
            "Epoch 13/50\n",
            "2000000/2000000 [==============================] - 11s 5us/step - loss: 0.5855 - acc: 0.6910\n",
            "Epoch 14/50\n",
            "2000000/2000000 [==============================] - 10s 5us/step - loss: 0.5841 - acc: 0.6925\n",
            "Epoch 15/50\n",
            "2000000/2000000 [==============================] - 10s 5us/step - loss: 0.5828 - acc: 0.6936\n",
            "Epoch 16/50\n",
            "2000000/2000000 [==============================] - 10s 5us/step - loss: 0.5818 - acc: 0.6941\n",
            "Epoch 17/50\n",
            "2000000/2000000 [==============================] - 10s 5us/step - loss: 0.5806 - acc: 0.6953\n",
            "Epoch 18/50\n",
            "2000000/2000000 [==============================] - 11s 5us/step - loss: 0.5800 - acc: 0.6957\n",
            "Epoch 19/50\n",
            "2000000/2000000 [==============================] - 10s 5us/step - loss: 0.5790 - acc: 0.6967\n",
            "Epoch 20/50\n",
            "2000000/2000000 [==============================] - 10s 5us/step - loss: 0.5785 - acc: 0.6971\n",
            "Epoch 21/50\n",
            "2000000/2000000 [==============================] - 10s 5us/step - loss: 0.5776 - acc: 0.6975\n",
            "Epoch 22/50\n",
            "2000000/2000000 [==============================] - 10s 5us/step - loss: 0.5770 - acc: 0.6982\n",
            "Epoch 23/50\n",
            "2000000/2000000 [==============================] - 11s 5us/step - loss: 0.5764 - acc: 0.6990\n",
            "Epoch 24/50\n",
            "2000000/2000000 [==============================] - 10s 5us/step - loss: 0.5761 - acc: 0.6990\n",
            "Epoch 25/50\n",
            "2000000/2000000 [==============================] - 11s 5us/step - loss: 0.5758 - acc: 0.6992\n",
            "Epoch 26/50\n",
            "2000000/2000000 [==============================] - 10s 5us/step - loss: 0.5751 - acc: 0.6997\n",
            "Epoch 27/50\n",
            "2000000/2000000 [==============================] - 11s 5us/step - loss: 0.5747 - acc: 0.6999\n",
            "Epoch 28/50\n",
            "2000000/2000000 [==============================] - 11s 5us/step - loss: 0.5742 - acc: 0.7005\n",
            "Epoch 29/50\n",
            "2000000/2000000 [==============================] - 10s 5us/step - loss: 0.5739 - acc: 0.7009\n",
            "Epoch 30/50\n",
            "2000000/2000000 [==============================] - 10s 5us/step - loss: 0.5734 - acc: 0.7013\n",
            "Epoch 31/50\n",
            "2000000/2000000 [==============================] - 10s 5us/step - loss: 0.5733 - acc: 0.7015\n",
            "Epoch 32/50\n",
            "2000000/2000000 [==============================] - 11s 5us/step - loss: 0.5730 - acc: 0.7013\n",
            "Epoch 33/50\n",
            "2000000/2000000 [==============================] - 10s 5us/step - loss: 0.5724 - acc: 0.7020\n",
            "Epoch 34/50\n",
            "2000000/2000000 [==============================] - 10s 5us/step - loss: 0.5722 - acc: 0.7022\n",
            "Epoch 35/50\n",
            "2000000/2000000 [==============================] - 10s 5us/step - loss: 0.5721 - acc: 0.7020\n",
            "Epoch 36/50\n",
            "2000000/2000000 [==============================] - 10s 5us/step - loss: 0.5715 - acc: 0.7026\n",
            "Epoch 37/50\n",
            "2000000/2000000 [==============================] - 10s 5us/step - loss: 0.5714 - acc: 0.7025\n",
            "Epoch 38/50\n",
            "2000000/2000000 [==============================] - 10s 5us/step - loss: 0.5712 - acc: 0.7031\n",
            "Epoch 39/50\n",
            "2000000/2000000 [==============================] - 10s 5us/step - loss: 0.5706 - acc: 0.7036\n",
            "Epoch 40/50\n",
            "2000000/2000000 [==============================] - 10s 5us/step - loss: 0.5705 - acc: 0.7033\n",
            "Epoch 41/50\n",
            "2000000/2000000 [==============================] - 10s 5us/step - loss: 0.5702 - acc: 0.7036\n",
            "Epoch 42/50\n",
            "2000000/2000000 [==============================] - 10s 5us/step - loss: 0.5701 - acc: 0.7036\n",
            "Epoch 43/50\n",
            "2000000/2000000 [==============================] - 10s 5us/step - loss: 0.5698 - acc: 0.7041\n",
            "Epoch 44/50\n",
            "2000000/2000000 [==============================] - 10s 5us/step - loss: 0.5694 - acc: 0.7042\n",
            "Epoch 45/50\n",
            "2000000/2000000 [==============================] - 10s 5us/step - loss: 0.5695 - acc: 0.7043\n",
            "Epoch 46/50\n",
            "2000000/2000000 [==============================] - 10s 5us/step - loss: 0.5691 - acc: 0.7044\n",
            "Epoch 47/50\n",
            "2000000/2000000 [==============================] - 10s 5us/step - loss: 0.5691 - acc: 0.7045\n",
            "Epoch 48/50\n",
            "2000000/2000000 [==============================] - 11s 5us/step - loss: 0.5686 - acc: 0.7050\n",
            "Epoch 49/50\n",
            "2000000/2000000 [==============================] - 10s 5us/step - loss: 0.5683 - acc: 0.7051\n",
            "Epoch 50/50\n",
            "2000000/2000000 [==============================] - 10s 5us/step - loss: 0.5681 - acc: 0.7052\n"
          ],
          "name": "stdout"
        },
        {
          "output_type": "execute_result",
          "data": {
            "text/plain": [
              "0.7901420062830227"
            ]
          },
          "metadata": {
            "tags": []
          },
          "execution_count": 38
        }
      ]
    },
    {
      "metadata": {
        "id": "o3N4F3zwr607",
        "colab_type": "code",
        "outputId": "a0c457fd-bbc3-45f2-ea16-5d6be762a064",
        "colab": {
          "base_uri": "https://localhost:8080/",
          "height": 1269
        }
      },
      "cell_type": "code",
      "source": [
        "### Model 2: epochs increased to 30 and Batch size to 100. \n",
        "#Above 30 epochs and batch 100, I don't get average accuracy because of \"Buffered data was truncated after reaching the output size limit.\" \n",
        "####Q6.\tTake all that you’ve learned so far and give your best shot at producing a score. \n",
        "y = np.array(data.loc[:,0])\n",
        "x = np.array(data.loc[:,1:])\n",
        "x_test = np.array(test_data.loc[:,1:])\n",
        "y_test = np.array(test_data.loc[:,0])\n",
        "\n",
        "initializer = \"VarianceScaling\"\n",
        "model = Sequential()\n",
        "model.add(Dense(50, input_dim=x.shape[1], kernel_initializer= initializer)) # X_train.shape[1] == 28 here\n",
        "model.add(Activation('sigmoid'))\n",
        "model.add(Dropout(0.10))\n",
        "model.add(Dense(1, kernel_initializer= initializer)) \n",
        "model.add(Activation('sigmoid'))\n",
        "\n",
        "sgd = SGD(lr=0.1, decay=1e-6, momentum=0.9, nesterov=True)\n",
        "model.compile(loss='binary_crossentropy', metrics=['accuracy'], optimizer=sgd)\n",
        "\n",
        "model.fit(x, y, epochs=30, batch_size=100)\n",
        "roc_auc_score(y_test,model.predict(x_test))\n",
        "#end"
      ],
      "execution_count": 0,
      "outputs": [
        {
          "output_type": "stream",
          "text": [
            "WARNING:tensorflow:From /usr/local/lib/python3.6/dist-packages/tensorflow/python/framework/op_def_library.py:263: colocate_with (from tensorflow.python.framework.ops) is deprecated and will be removed in a future version.\n",
            "Instructions for updating:\n",
            "Colocations handled automatically by placer.\n",
            "WARNING:tensorflow:From /usr/local/lib/python3.6/dist-packages/keras/backend/tensorflow_backend.py:3445: calling dropout (from tensorflow.python.ops.nn_ops) with keep_prob is deprecated and will be removed in a future version.\n",
            "Instructions for updating:\n",
            "Please use `rate` instead of `keep_prob`. Rate should be set to `rate = 1 - keep_prob`.\n",
            "WARNING:tensorflow:From /usr/local/lib/python3.6/dist-packages/tensorflow/python/ops/math_ops.py:3066: to_int32 (from tensorflow.python.ops.math_ops) is deprecated and will be removed in a future version.\n",
            "Instructions for updating:\n",
            "Use tf.cast instead.\n",
            "Epoch 1/30\n",
            "2000000/2000000 [==============================] - 81s 40us/step - loss: 0.6125 - acc: 0.6617\n",
            "Epoch 2/30\n",
            "2000000/2000000 [==============================] - 79s 39us/step - loss: 0.5889 - acc: 0.6878\n",
            "Epoch 3/30\n",
            "2000000/2000000 [==============================] - 78s 39us/step - loss: 0.5801 - acc: 0.6955\n",
            "Epoch 4/30\n",
            "2000000/2000000 [==============================] - 78s 39us/step - loss: 0.5756 - acc: 0.6997\n",
            "Epoch 5/30\n",
            "2000000/2000000 [==============================] - 78s 39us/step - loss: 0.5729 - acc: 0.7016\n",
            "Epoch 6/30\n",
            "2000000/2000000 [==============================] - 78s 39us/step - loss: 0.5711 - acc: 0.7028\n",
            "Epoch 7/30\n",
            "2000000/2000000 [==============================] - 78s 39us/step - loss: 0.5693 - acc: 0.7046\n",
            "Epoch 8/30\n",
            "2000000/2000000 [==============================] - 78s 39us/step - loss: 0.5675 - acc: 0.7058\n",
            "Epoch 9/30\n",
            "2000000/2000000 [==============================] - 79s 39us/step - loss: 0.5658 - acc: 0.7072\n",
            "Epoch 10/30\n",
            "2000000/2000000 [==============================] - 78s 39us/step - loss: 0.5647 - acc: 0.7080\n",
            "Epoch 11/30\n",
            "2000000/2000000 [==============================] - 78s 39us/step - loss: 0.5634 - acc: 0.7089\n",
            "Epoch 12/30\n",
            "2000000/2000000 [==============================] - 78s 39us/step - loss: 0.5621 - acc: 0.7099\n",
            "Epoch 13/30\n",
            "2000000/2000000 [==============================] - 78s 39us/step - loss: 0.5612 - acc: 0.7106\n",
            "Epoch 14/30\n",
            "2000000/2000000 [==============================] - 78s 39us/step - loss: 0.5603 - acc: 0.7113\n",
            "Epoch 15/30\n",
            "2000000/2000000 [==============================] - 78s 39us/step - loss: 0.5594 - acc: 0.7120\n",
            "Epoch 16/30\n",
            "2000000/2000000 [==============================] - 78s 39us/step - loss: 0.5589 - acc: 0.7121\n",
            "Epoch 17/30\n",
            "2000000/2000000 [==============================] - 78s 39us/step - loss: 0.5583 - acc: 0.7128\n",
            "Epoch 18/30\n",
            "2000000/2000000 [==============================] - 78s 39us/step - loss: 0.5574 - acc: 0.7131\n",
            "Epoch 19/30\n",
            "2000000/2000000 [==============================] - 78s 39us/step - loss: 0.5571 - acc: 0.7137\n",
            "Epoch 20/30\n",
            "2000000/2000000 [==============================] - 78s 39us/step - loss: 0.5564 - acc: 0.7138\n",
            "Epoch 21/30\n",
            "2000000/2000000 [==============================] - 78s 39us/step - loss: 0.5558 - acc: 0.7146\n",
            "Epoch 22/30\n",
            "2000000/2000000 [==============================] - 78s 39us/step - loss: 0.5553 - acc: 0.7147\n",
            "Epoch 23/30\n",
            "2000000/2000000 [==============================] - 79s 39us/step - loss: 0.5549 - acc: 0.7147\n",
            "Epoch 24/30\n",
            "2000000/2000000 [==============================] - 78s 39us/step - loss: 0.5546 - acc: 0.7151\n",
            "Epoch 25/30\n",
            "2000000/2000000 [==============================] - 78s 39us/step - loss: 0.5542 - acc: 0.7153\n",
            "Epoch 26/30\n",
            "2000000/2000000 [==============================] - 78s 39us/step - loss: 0.5538 - acc: 0.7154\n",
            "Epoch 27/30\n",
            "2000000/2000000 [==============================] - 78s 39us/step - loss: 0.5536 - acc: 0.7157\n",
            "Epoch 28/30\n",
            "2000000/2000000 [==============================] - 78s 39us/step - loss: 0.5535 - acc: 0.7158\n",
            "Epoch 29/30\n",
            "2000000/2000000 [==============================] - 86s 43us/step - loss: 0.5531 - acc: 0.7162\n",
            "Epoch 30/30\n",
            "2000000/2000000 [==============================] - 79s 39us/step - loss: 0.5529 - acc: 0.7162\n"
          ],
          "name": "stdout"
        },
        {
          "output_type": "execute_result",
          "data": {
            "text/plain": [
              "0.8034564160616728"
            ]
          },
          "metadata": {
            "tags": []
          },
          "execution_count": 7
        }
      ]
    }
  ]
}